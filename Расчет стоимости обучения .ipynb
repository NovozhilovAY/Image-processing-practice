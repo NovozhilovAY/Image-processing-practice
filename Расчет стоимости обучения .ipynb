{
 "cells": [
  {
   "cell_type": "markdown",
   "id": "ca47f097",
   "metadata": {},
   "source": [
    "# Расчет и сравнение стоимости оффлайн и онлайн образования"
   ]
  },
  {
   "cell_type": "markdown",
   "id": "4b0e6494",
   "metadata": {},
   "source": [
    "Стоимость очного обучения в университете складывается из:\n",
    "* зарплаты преподавателей с учётом начислений в государственные внебюджетные фонды\n",
    "* зарплаты персонала с учётом начислений в государственные внебюджетные фонды\n",
    "* оплаты коммунальных услуг\n",
    "* оплаты услуг связи\n",
    "* оплаты расходных материалов\n",
    "* содержание зданий\n",
    "* обновление мебели и техники\n",
    "\n",
    "Пункты 2 - 6 объединим в \"Прочее\", получим\n",
    "\n",
    "Стоимость очного обучения = ЗП + прочее\n",
    "\n",
    "Стоимость онлайн обучения складывается из:\n",
    "* зарплаты преподавателей с учётом начислений в государственные внебюджетные фонды\n",
    "* зарплаты методистов и бухгалтерии\n",
    "\n",
    "Зарплату методистов и бухгалтерии приблизительно возьмем, как 10% от \"Прочее\"\n",
    "\n",
    "Стоимость онлайн обучения = ЗП + прочее * 0.1\n",
    "\n",
    "Исходя из этих формул, проведем рассчеты"
   ]
  },
  {
   "cell_type": "markdown",
   "id": "23ae467c",
   "metadata": {},
   "source": [
    "Вычислим годовой доход университета\n",
    "\n",
    "Годовой доход = количество студентов * средняя стоимость обучения в год \n",
    "\n",
    "Количество студентов = 30000 (по данным сайта университета)\n",
    "\n",
    "Стоимость на разных программах обучения варьируется от 82000 до 220000 рублей в год (по данным сайта университета)"
   ]
  },
  {
   "cell_type": "code",
   "execution_count": 19,
   "id": "b528a172",
   "metadata": {},
   "outputs": [
    {
     "name": "stdout",
     "output_type": "stream",
     "text": [
      "Примерная средняя стоимость обучения в год =  151000.0 руб.\n",
      "Примерный годовой доход универа =  4530000000.0 руб.\n"
     ]
    }
   ],
   "source": [
    "OfflineAvgYearCost = (82000 + 220000) / 2\n",
    "print(\"Примерная средняя стоимость обучения в год = \", OfflineAvgYearCost, \"руб.\")\n",
    "NumStudents = 30000\n",
    "YearIncome = NumStudents * OfflineAvgYearCost\n",
    "print(\"Примерный годовой доход универа = \", YearIncome,\"руб.\")"
   ]
  },
  {
   "cell_type": "markdown",
   "id": "5a54720b",
   "metadata": {},
   "source": [
    "Посчитаем расходы на зарплату преподавателей\n",
    "\n",
    "Расходы на зарплаты преподавателей =12 * количество преподавателей * средний размер зп * начисления на оплату труда\n",
    "\n",
    "Количество преподавателей = 1700 (по данным сайта универа)\n",
    "\n",
    "Средняя зарплата преподавателя ВУЗа в Нижнем Новгороде = 24622 рубля (по данным сайта trud.com)\n",
    "\n",
    "Начисления на оплату труда = 30.1%"
   ]
  },
  {
   "cell_type": "code",
   "execution_count": 8,
   "id": "9368d0cc",
   "metadata": {},
   "outputs": [
    {
     "name": "stdout",
     "output_type": "stream",
     "text": [
      "Примерные затраты на зарплаты преподавателям =  653477728.8 руб.\n"
     ]
    }
   ],
   "source": [
    "NumTeachers = 1700\n",
    "AvgSalary = 24622\n",
    "Charge = 1.301\n",
    "YearSalaryExpenses = 12 * NumTeachers * AvgSalary * Charge\n",
    "print(\"Примерные затраты на зарплаты преподавателям = \", YearSalaryExpenses,\"руб.\")"
   ]
  },
  {
   "cell_type": "markdown",
   "id": "381662a2",
   "metadata": {},
   "source": [
    "Посчитаем прочие затраты\n",
    "\n",
    "Прочее = Доход за год - Годовые затраты на зарптаты преподавателей"
   ]
  },
  {
   "cell_type": "code",
   "execution_count": 10,
   "id": "f55c4314",
   "metadata": {},
   "outputs": [
    {
     "name": "stdout",
     "output_type": "stream",
     "text": [
      "Прочие затраты =  3876522271.2 руб.\n"
     ]
    }
   ],
   "source": [
    "OtherCosts = YearIncome - YearSalaryExpenses\n",
    "print(\"Прочие затраты = \", OtherCosts, \"руб.\")"
   ]
  },
  {
   "cell_type": "markdown",
   "id": "0b108e8d",
   "metadata": {},
   "source": [
    "Теперь вычислим затраты университета на онлайн обучение:"
   ]
  },
  {
   "cell_type": "code",
   "execution_count": 16,
   "id": "7a319599",
   "metadata": {},
   "outputs": [
    {
     "name": "stdout",
     "output_type": "stream",
     "text": [
      "Затраты на онлайн обучение =  1041129955.92\n"
     ]
    }
   ],
   "source": [
    "YearCostsOnline = YearSalaryExpenses + OtherCosts * 0.1\n",
    "print(\"Затраты на онлайн обучение = \",YearCostsOnline)"
   ]
  },
  {
   "cell_type": "markdown",
   "id": "7a645a61",
   "metadata": {},
   "source": [
    "Посчитаем сколько в среднем нужно будет платить студенту за год обучения в онлайн формате"
   ]
  },
  {
   "cell_type": "code",
   "execution_count": 18,
   "id": "6ee795e6",
   "metadata": {},
   "outputs": [
    {
     "name": "stdout",
     "output_type": "stream",
     "text": [
      "Средняя стоимость года обучения в онлайн формате: 34704.331864 руб.\n"
     ]
    }
   ],
   "source": [
    "OnlineYearCost = YearCostsOnline / NumStudents\n",
    "print(\"Средняя стоимость года обучения в онлайн формате:\",OnlineYearCost,\"руб.\")"
   ]
  },
  {
   "cell_type": "code",
   "execution_count": 26,
   "id": "4d324aa3",
   "metadata": {},
   "outputs": [
    {
     "data": {
      "image/png": "[encoded data removed]",
      "text/plain": [
       "<Figure size 432x288 with 1 Axes>"
      ]
     },
     "metadata": {
      "needs_background": "light"
     },
     "output_type": "display_data"
    }
   ],
   "source": [
    "import numpy as np\n",
    "import matplotlib.pyplot as plt\n",
    "x = np.arange(0,3000,10)\n",
    "plt.plot(x, x*OnlineYearCost, x, x*OfflineAvgYearCost)\n",
    "plt.xlabel(\"Кол-во студентов\")\n",
    "plt.ylabel(\"Затраты млрд. руб.\")\n",
    "plt.title(\"Затраты на офлайн и онлайн образование\")\n",
    "plt.show()"
   ]
  },
  {
   "cell_type": "code",
   "execution_count": null,
   "id": "015c5a53",
   "metadata": {},
   "outputs": [],
   "source": []
  }
 ],
 "metadata": {
  "kernelspec": {
   "display_name": "Python 3",
   "language": "python",
   "name": "python3"
  },
  "language_info": {
   "codemirror_mode": {
    "name": "ipython",
    "version": 3
   },
   "file_extension": ".py",
   "mimetype": "text/x-python",
   "name": "python",
   "nbconvert_exporter": "python",
   "pygments_lexer": "ipython3",
   "version": "3.8.8"
  }
 },
 "nbformat": 4,
 "nbformat_minor": 5
}
